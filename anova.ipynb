{
 "cells": [
  {
   "cell_type": "code",
   "execution_count": 33,
   "id": "f5fa6459",
   "metadata": {},
   "outputs": [
    {
     "name": "stderr",
     "output_type": "stream",
     "text": [
      "<ipython-input-33-9d6625dcab36>:19: SettingWithCopyWarning: \n",
      "A value is trying to be set on a copy of a slice from a DataFrame\n",
      "\n",
      "See the caveats in the documentation: https://pandas.pydata.org/pandas-docs/stable/user_guide/indexing.html#returning-a-view-versus-a-copy\n",
      "  df.Price[r] = 'low price'\n",
      "C:\\Users\\HP\\Desktop\\Anaconda3\\lib\\site-packages\\pandas\\core\\indexing.py:1637: SettingWithCopyWarning: \n",
      "A value is trying to be set on a copy of a slice from a DataFrame\n",
      "\n",
      "See the caveats in the documentation: https://pandas.pydata.org/pandas-docs/stable/user_guide/indexing.html#returning-a-view-versus-a-copy\n",
      "  self._setitem_single_block(indexer, value, name)\n",
      "<ipython-input-33-9d6625dcab36>:16: SettingWithCopyWarning: \n",
      "A value is trying to be set on a copy of a slice from a DataFrame\n",
      "\n",
      "See the caveats in the documentation: https://pandas.pydata.org/pandas-docs/stable/user_guide/indexing.html#returning-a-view-versus-a-copy\n",
      "  df.Price[r] = 'High price'\n"
     ]
    },
    {
     "data": {
      "text/html": [
       "<div>\n",
       "<style scoped>\n",
       "    .dataframe tbody tr th:only-of-type {\n",
       "        vertical-align: middle;\n",
       "    }\n",
       "\n",
       "    .dataframe tbody tr th {\n",
       "        vertical-align: top;\n",
       "    }\n",
       "\n",
       "    .dataframe thead th {\n",
       "        text-align: right;\n",
       "    }\n",
       "</style>\n",
       "<table border=\"1\" class=\"dataframe\">\n",
       "  <thead>\n",
       "    <tr style=\"text-align: right;\">\n",
       "      <th></th>\n",
       "      <th>Price</th>\n",
       "      <th>Installs</th>\n",
       "    </tr>\n",
       "  </thead>\n",
       "  <tbody>\n",
       "    <tr>\n",
       "      <th>0</th>\n",
       "      <td>low price</td>\n",
       "      <td>10000</td>\n",
       "    </tr>\n",
       "    <tr>\n",
       "      <th>1</th>\n",
       "      <td>low price</td>\n",
       "      <td>500000</td>\n",
       "    </tr>\n",
       "    <tr>\n",
       "      <th>2</th>\n",
       "      <td>low price</td>\n",
       "      <td>5000000</td>\n",
       "    </tr>\n",
       "    <tr>\n",
       "      <th>3</th>\n",
       "      <td>low price</td>\n",
       "      <td>50000000</td>\n",
       "    </tr>\n",
       "    <tr>\n",
       "      <th>4</th>\n",
       "      <td>low price</td>\n",
       "      <td>100000</td>\n",
       "    </tr>\n",
       "  </tbody>\n",
       "</table>\n",
       "</div>"
      ],
      "text/plain": [
       "       Price  Installs\n",
       "0  low price     10000\n",
       "1  low price    500000\n",
       "2  low price   5000000\n",
       "3  low price  50000000\n",
       "4  low price    100000"
      ]
     },
     "execution_count": 33,
     "metadata": {},
     "output_type": "execute_result"
    }
   ],
   "source": [
    "#ANOVA 1 seul facteur : Installs et Price\n",
    "\n",
    "import pandas as pd\n",
    "\n",
    "#convertir la variable PRICE a une variable qualitative avec 2 modalités: High price et low price\n",
    "df = pd.read_csv(\"cleaned.csv\")  #df contient la base de données nettoyer \"cleaned\"\n",
    "df_pd = {\n",
    "    'Price' : df.Price , \n",
    "    'Installs' : df['Installs']  \n",
    "}\n",
    "df = pd.DataFrame(df_pd)\n",
    "df.Price.astype(str) #changement de type de la variable price en chaine de caractère\n",
    "for r in df.index : \n",
    "    if int(df.Price[r]) >= 200 : \n",
    "        #df.Price[r] = df.Price.astype(str)\n",
    "        df.Price[r] = 'High price'\n",
    "    else:\n",
    "        #df.Price[r] =  df.Price.astype(str)\n",
    "        df.Price[r] = 'low price' \n",
    "    \n",
    "df.head()"
   ]
  },
  {
   "cell_type": "code",
   "execution_count": 24,
   "id": "a0e52396",
   "metadata": {},
   "outputs": [
    {
     "data": {
      "text/plain": [
       "'High price'"
      ]
     },
     "execution_count": 24,
     "metadata": {},
     "output_type": "execute_result"
    }
   ],
   "source": [
    "#test\n",
    "df.Price[4098]"
   ]
  },
  {
   "cell_type": "code",
   "execution_count": 34,
   "id": "cbe6eb1c",
   "metadata": {},
   "outputs": [
    {
     "data": {
      "image/png": "[encoded data removed]",
      "text/plain": [
       "<Figure size 432x288 with 1 Axes>"
      ]
     },
     "metadata": {
      "needs_background": "light"
     },
     "output_type": "display_data"
    }
   ],
   "source": [
    "# générer un boxplot pour voir la distribution des données par traitements. En utilisant \n",
    "#le boxplot, nous pouvons facilement détecter les différences entre les différents traitements\n",
    "import matplotlib.pyplot as plt\n",
    "import seaborn as sns\n",
    "d=pd.read_csv(\"cleaned.csv\")\n",
    "ax = sns.boxplot(x=df.Price, y=df.Installs, data=df, color='#99c2a2')\n",
    "#ax = sns.swarmplot(x=df.Price, y=df.Installs, data=df, color='#7d0013')\n",
    "plt.show()"
   ]
  },
  {
   "cell_type": "code",
   "execution_count": 35,
   "id": "42df8cd2",
   "metadata": {},
   "outputs": [
    {
     "data": {
      "text/html": [
       "<div>\n",
       "<style scoped>\n",
       "    .dataframe tbody tr th:only-of-type {\n",
       "        vertical-align: middle;\n",
       "    }\n",
       "\n",
       "    .dataframe tbody tr th {\n",
       "        vertical-align: top;\n",
       "    }\n",
       "\n",
       "    .dataframe thead th {\n",
       "        text-align: right;\n",
       "    }\n",
       "</style>\n",
       "<table border=\"1\" class=\"dataframe\">\n",
       "  <thead>\n",
       "    <tr style=\"text-align: right;\">\n",
       "      <th></th>\n",
       "      <th>df</th>\n",
       "      <th>sum_sq</th>\n",
       "      <th>mean_sq</th>\n",
       "      <th>F</th>\n",
       "      <th>PR(&gt;F)</th>\n",
       "    </tr>\n",
       "  </thead>\n",
       "  <tbody>\n",
       "    <tr>\n",
       "      <th>C(Price)</th>\n",
       "      <td>1.0</td>\n",
       "      <td>9.098535e+14</td>\n",
       "      <td>9.098535e+14</td>\n",
       "      <td>0.426365</td>\n",
       "      <td>0.513795</td>\n",
       "    </tr>\n",
       "    <tr>\n",
       "      <th>Residual</th>\n",
       "      <td>9143.0</td>\n",
       "      <td>1.951097e+19</td>\n",
       "      <td>2.133979e+15</td>\n",
       "      <td>NaN</td>\n",
       "      <td>NaN</td>\n",
       "    </tr>\n",
       "  </tbody>\n",
       "</table>\n",
       "</div>"
      ],
      "text/plain": [
       "              df        sum_sq       mean_sq         F    PR(>F)\n",
       "C(Price)     1.0  9.098535e+14  9.098535e+14  0.426365  0.513795\n",
       "Residual  9143.0  1.951097e+19  2.133979e+15       NaN       NaN"
      ]
     },
     "execution_count": 35,
     "metadata": {},
     "output_type": "execute_result"
    }
   ],
   "source": [
    "#le tableau de anova 1 seul facteur-->Fcritique et PR(>F)\n",
    "res = stat()\n",
    "res.anova_stat(df=df, res_var='Price', anova_model='Installs ~ C(Price)')\n",
    "res.anova_summary"
   ]
  },
  {
   "cell_type": "code",
   "execution_count": null,
   "id": "d2c90558",
   "metadata": {
    "collapsed": true
   },
   "outputs": [],
   "source": [
    "#On peut affirmer au seuil de 5% que le prix des applications  ne varie pas vis à vis les installations\n",
    "#car : PR=0.513795>0.05. donc on n'a pas d'effet entre les installations et le prix des applications"
   ]
  },
  {
   "cell_type": "code",
   "execution_count": 6,
   "id": "f11dfde6",
   "metadata": {},
   "outputs": [],
   "source": [
    "#Anova 1 seul facteur :installs et Categorie\n",
    "#charger notre data nettoyer: cleaned\n",
    "cleaned=pd.read_csv(\"cleaned.csv\")"
   ]
  },
  {
   "cell_type": "code",
   "execution_count": 29,
   "id": "8dae4f81",
   "metadata": {},
   "outputs": [
    {
     "data": {
      "text/html": [
       "<div>\n",
       "<style scoped>\n",
       "    .dataframe tbody tr th:only-of-type {\n",
       "        vertical-align: middle;\n",
       "    }\n",
       "\n",
       "    .dataframe tbody tr th {\n",
       "        vertical-align: top;\n",
       "    }\n",
       "\n",
       "    .dataframe thead th {\n",
       "        text-align: right;\n",
       "    }\n",
       "</style>\n",
       "<table border=\"1\" class=\"dataframe\">\n",
       "  <thead>\n",
       "    <tr style=\"text-align: right;\">\n",
       "      <th></th>\n",
       "      <th>df</th>\n",
       "      <th>sum_sq</th>\n",
       "      <th>mean_sq</th>\n",
       "      <th>F</th>\n",
       "      <th>PR(&gt;F)</th>\n",
       "    </tr>\n",
       "  </thead>\n",
       "  <tbody>\n",
       "    <tr>\n",
       "      <th>C(Genres)</th>\n",
       "      <td>115.0</td>\n",
       "      <td>1.015290e+18</td>\n",
       "      <td>8.828610e+15</td>\n",
       "      <td>4.309632</td>\n",
       "      <td>5.300538e-47</td>\n",
       "    </tr>\n",
       "    <tr>\n",
       "      <th>Residual</th>\n",
       "      <td>9029.0</td>\n",
       "      <td>1.849659e+19</td>\n",
       "      <td>2.048576e+15</td>\n",
       "      <td>NaN</td>\n",
       "      <td>NaN</td>\n",
       "    </tr>\n",
       "  </tbody>\n",
       "</table>\n",
       "</div>"
      ],
      "text/plain": [
       "               df        sum_sq       mean_sq         F        PR(>F)\n",
       "C(Genres)   115.0  1.015290e+18  8.828610e+15  4.309632  5.300538e-47\n",
       "Residual   9029.0  1.849659e+19  2.048576e+15       NaN           NaN"
      ]
     },
     "execution_count": 29,
     "metadata": {},
     "output_type": "execute_result"
    }
   ],
   "source": [
    "#Effet entre Installs et Categorie\n",
    "res = stat()\n",
    "res.anova_stat(df=cleaned, res_var='Genres', anova_model='Installs ~ C(Genres)')\n",
    "res.anova_summary"
   ]
  },
  {
   "cell_type": "code",
   "execution_count": null,
   "id": "275cf973",
   "metadata": {},
   "outputs": [],
   "source": [
    "#PR=5.300538e-47<0.05. donc on a un effet significatif  entre les installations et le genre des applications."
   ]
  },
  {
   "cell_type": "code",
   "execution_count": 36,
   "id": "e8741aab",
   "metadata": {},
   "outputs": [
    {
     "data": {
      "image/png": "[encoded data removed]",
      "text/plain": [
       "<Figure size 432x288 with 1 Axes>"
      ]
     },
     "metadata": {
      "needs_background": "light"
     },
     "output_type": "display_data"
    }
   ],
   "source": [
    "# générer un boxplot pour voir la distribution des données par traitements. En utilisant \n",
    "#le boxplot, nous pouvons facilement détecter les différences entre les différents traitements\n",
    "import matplotlib.pyplot as plt\n",
    "import seaborn as sns\n",
    "ax = sns.boxplot(x=cleaned.Genres, y=cleaned.Installs, data=cleaned, color='#99c2a2')\n",
    "#ax = sns.swarmplot(x=df.Price, y=df.Installs, data=df, color='#7d0013')\n",
    "plt.show()"
   ]
  },
  {
   "cell_type": "code",
   "execution_count": null,
   "id": "7ff25fcb",
   "metadata": {},
   "outputs": [],
   "source": []
  }
 ],
 "metadata": {
  "kernelspec": {
   "display_name": "Python 3",
   "language": "python",
   "name": "python3"
  },
  "language_info": {
   "codemirror_mode": {
    "name": "ipython",
    "version": 3
   },
   "file_extension": ".py",
   "mimetype": "text/x-python",
   "name": "python",
   "nbconvert_exporter": "python",
   "pygments_lexer": "ipython3",
   "version": "3.8.8"
  }
 },
 "nbformat": 4,
 "nbformat_minor": 5
}
